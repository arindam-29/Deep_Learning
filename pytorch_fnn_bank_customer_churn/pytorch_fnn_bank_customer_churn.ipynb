{
 "cells": [
  {
   "cell_type": "markdown",
   "metadata": {},
   "source": [
    "Create a simple Feed Forward network with PyTorch using Bank Customer Churn dataset....(Churn_Modelling.csv)\n",
    "\n",
    "For any model following steps are needed: \n",
    "\n",
    "- Import - necessary libraries\n",
    "- [Optional] Set the Device - as \"msp\" or \"CUDA\"\n",
    "- [Optional] EDA Prepare the data for train and test \n",
    "    - Read the Dataset\n",
    "    - Perform EDA and Cleanup\n",
    "    - [Optional] Split the data and create X and y \n",
    "- Create Fully Connected Network - using PyTorch \n",
    "- Load Data - using dataset loader\n",
    "- Initialize network - ready for training\n",
    "- Loss and optimizer - define \n",
    "- Train the Network - to calculate weights\n",
    "- Check accuracy on training & test dataset"
   ]
  },
  {
   "cell_type": "markdown",
   "metadata": {},
   "source": [
    "Import - necessary libraries"
   ]
  },
  {
   "cell_type": "code",
   "execution_count": 1,
   "metadata": {},
   "outputs": [],
   "source": [
    "import warnings\n",
    "warnings.filterwarnings('ignore')\n",
    "\n",
    "import numpy as np\n",
    "import pandas as pd\n",
    "from sklearn.model_selection import train_test_split\n",
    "from sklearn.preprocessing import StandardScaler\n",
    "import torch\n",
    "from torch import nn\n",
    "from torch import optim\n",
    "import torch.nn.functional as F"
   ]
  },
  {
   "cell_type": "markdown",
   "metadata": {},
   "source": [
    "EDA"
   ]
  },
  {
   "cell_type": "code",
   "execution_count": 2,
   "metadata": {},
   "outputs": [
    {
     "data": {
      "text/html": [
       "<div>\n",
       "<style scoped>\n",
       "    .dataframe tbody tr th:only-of-type {\n",
       "        vertical-align: middle;\n",
       "    }\n",
       "\n",
       "    .dataframe tbody tr th {\n",
       "        vertical-align: top;\n",
       "    }\n",
       "\n",
       "    .dataframe thead th {\n",
       "        text-align: right;\n",
       "    }\n",
       "</style>\n",
       "<table border=\"1\" class=\"dataframe\">\n",
       "  <thead>\n",
       "    <tr style=\"text-align: right;\">\n",
       "      <th></th>\n",
       "      <th>RowNumber</th>\n",
       "      <th>CustomerId</th>\n",
       "      <th>Surname</th>\n",
       "      <th>CreditScore</th>\n",
       "      <th>Geography</th>\n",
       "      <th>Gender</th>\n",
       "      <th>Age</th>\n",
       "      <th>Tenure</th>\n",
       "      <th>Balance</th>\n",
       "      <th>NumOfProducts</th>\n",
       "      <th>HasCrCard</th>\n",
       "      <th>IsActiveMember</th>\n",
       "      <th>EstimatedSalary</th>\n",
       "      <th>Exited</th>\n",
       "    </tr>\n",
       "  </thead>\n",
       "  <tbody>\n",
       "    <tr>\n",
       "      <th>0</th>\n",
       "      <td>1</td>\n",
       "      <td>15634602</td>\n",
       "      <td>Hargrave</td>\n",
       "      <td>619</td>\n",
       "      <td>France</td>\n",
       "      <td>Female</td>\n",
       "      <td>42</td>\n",
       "      <td>2</td>\n",
       "      <td>0.00</td>\n",
       "      <td>1</td>\n",
       "      <td>1</td>\n",
       "      <td>1</td>\n",
       "      <td>101348.88</td>\n",
       "      <td>1</td>\n",
       "    </tr>\n",
       "    <tr>\n",
       "      <th>1</th>\n",
       "      <td>2</td>\n",
       "      <td>15647311</td>\n",
       "      <td>Hill</td>\n",
       "      <td>608</td>\n",
       "      <td>Spain</td>\n",
       "      <td>Female</td>\n",
       "      <td>41</td>\n",
       "      <td>1</td>\n",
       "      <td>83807.86</td>\n",
       "      <td>1</td>\n",
       "      <td>0</td>\n",
       "      <td>1</td>\n",
       "      <td>112542.58</td>\n",
       "      <td>0</td>\n",
       "    </tr>\n",
       "    <tr>\n",
       "      <th>2</th>\n",
       "      <td>3</td>\n",
       "      <td>15619304</td>\n",
       "      <td>Onio</td>\n",
       "      <td>502</td>\n",
       "      <td>France</td>\n",
       "      <td>Female</td>\n",
       "      <td>42</td>\n",
       "      <td>8</td>\n",
       "      <td>159660.80</td>\n",
       "      <td>3</td>\n",
       "      <td>1</td>\n",
       "      <td>0</td>\n",
       "      <td>113931.57</td>\n",
       "      <td>1</td>\n",
       "    </tr>\n",
       "    <tr>\n",
       "      <th>3</th>\n",
       "      <td>4</td>\n",
       "      <td>15701354</td>\n",
       "      <td>Boni</td>\n",
       "      <td>699</td>\n",
       "      <td>France</td>\n",
       "      <td>Female</td>\n",
       "      <td>39</td>\n",
       "      <td>1</td>\n",
       "      <td>0.00</td>\n",
       "      <td>2</td>\n",
       "      <td>0</td>\n",
       "      <td>0</td>\n",
       "      <td>93826.63</td>\n",
       "      <td>0</td>\n",
       "    </tr>\n",
       "    <tr>\n",
       "      <th>4</th>\n",
       "      <td>5</td>\n",
       "      <td>15737888</td>\n",
       "      <td>Mitchell</td>\n",
       "      <td>850</td>\n",
       "      <td>Spain</td>\n",
       "      <td>Female</td>\n",
       "      <td>43</td>\n",
       "      <td>2</td>\n",
       "      <td>125510.82</td>\n",
       "      <td>1</td>\n",
       "      <td>1</td>\n",
       "      <td>1</td>\n",
       "      <td>79084.10</td>\n",
       "      <td>0</td>\n",
       "    </tr>\n",
       "  </tbody>\n",
       "</table>\n",
       "</div>"
      ],
      "text/plain": [
       "   RowNumber  CustomerId   Surname  CreditScore Geography  Gender  Age  \\\n",
       "0          1    15634602  Hargrave          619    France  Female   42   \n",
       "1          2    15647311      Hill          608     Spain  Female   41   \n",
       "2          3    15619304      Onio          502    France  Female   42   \n",
       "3          4    15701354      Boni          699    France  Female   39   \n",
       "4          5    15737888  Mitchell          850     Spain  Female   43   \n",
       "\n",
       "   Tenure    Balance  NumOfProducts  HasCrCard  IsActiveMember  \\\n",
       "0       2       0.00              1          1               1   \n",
       "1       1   83807.86              1          0               1   \n",
       "2       8  159660.80              3          1               0   \n",
       "3       1       0.00              2          0               0   \n",
       "4       2  125510.82              1          1               1   \n",
       "\n",
       "   EstimatedSalary  Exited  \n",
       "0        101348.88       1  \n",
       "1        112542.58       0  \n",
       "2        113931.57       1  \n",
       "3         93826.63       0  \n",
       "4         79084.10       0  "
      ]
     },
     "execution_count": 2,
     "metadata": {},
     "output_type": "execute_result"
    }
   ],
   "source": [
    "file_path = \"Churn_Modelling.csv\"\n",
    "df = pd.read_csv(file_path)\n",
    "df.head()"
   ]
  },
  {
   "cell_type": "code",
   "execution_count": 3,
   "metadata": {},
   "outputs": [],
   "source": [
    "df.drop(['RowNumber', 'CustomerId', 'Surname'], axis=1,inplace=True)\n",
    "df.replace({'Female': 1, 'Male': 0}, inplace=True)\n",
    "df = pd.get_dummies(data=df, columns=[\"Geography\"], dtype='int64')\n",
    "X = df.drop([\"Exited\"], axis=1).to_numpy(dtype='float32')\n",
    "y = df[\"Exited\"].to_numpy(dtype='float32')\n",
    "sc = StandardScaler()\n",
    "X_scaled = sc.fit_transform(X)\n",
    "X_train, X_test, y_train, y_test = train_test_split(X_scaled, y, test_size=0.25, random_state=1)\n",
    "X_train = torch.from_numpy(X_train)\n",
    "X_test  = torch.from_numpy(X_test)\n",
    "y_train = torch.from_numpy(y_train)\n",
    "y_train = y_train.reshape(len(y_train), 1)\n",
    "y_test  = torch.from_numpy(y_test)\n",
    "y_test  = y_test.reshape(len(y_test), 1)"
   ]
  },
  {
   "cell_type": "markdown",
   "metadata": {},
   "source": [
    "Define Network"
   ]
  },
  {
   "cell_type": "code",
   "execution_count": 4,
   "metadata": {},
   "outputs": [],
   "source": [
    "class NN(nn.Module):\n",
    "    def __init__(self, input_size, num_classes):\n",
    "        super(NN, self).__init__()\n",
    "        self.fc1 = nn.Linear(input_size, 6)\n",
    "        self.fc2 = nn.Linear(6, num_classes)\n",
    "    \n",
    "    def forward(self, x):\n",
    "        x = F.relu(self.fc1(x))\n",
    "        x = F.sigmoid(self.fc2(x))\n",
    "        return x"
   ]
  },
  {
   "cell_type": "markdown",
   "metadata": {},
   "source": [
    "Set Hyperparameters"
   ]
  },
  {
   "cell_type": "code",
   "execution_count": 5,
   "metadata": {},
   "outputs": [],
   "source": [
    "input_size = 12\n",
    "num_classes = 1\n",
    "learning_rate = 0.1\n",
    "num_epochs = 100\n",
    "print_offset = 10\n",
    "\n",
    "device = 'mps' if torch.backends.mps.is_available() else 'cuda' if torch.cuda.is_available() else 'cpu'"
   ]
  },
  {
   "cell_type": "markdown",
   "metadata": {},
   "source": [
    "Initialize the model, Loss Function and Optimizer"
   ]
  },
  {
   "cell_type": "code",
   "execution_count": 6,
   "metadata": {},
   "outputs": [
    {
     "name": "stdout",
     "output_type": "stream",
     "text": [
      "Model Architecture: \n",
      " NN(\n",
      "  (fc1): Linear(in_features=12, out_features=6, bias=True)\n",
      "  (fc2): Linear(in_features=6, out_features=1, bias=True)\n",
      ")\n"
     ]
    }
   ],
   "source": [
    "model = NN(input_size, num_classes).to(device)\n",
    "print(f\"Model Architecture: \\n {model}\")\n",
    "criterion = nn.BCELoss()\n",
    "optimizer = optim.Adam(model.parameters(), lr=learning_rate)"
   ]
  },
  {
   "cell_type": "markdown",
   "metadata": {},
   "source": [
    "Train the Model\n",
    "\n",
    "- Run A) and B) - Separate Train and Validation\n",
    "- Run C) - Train and Validation Together"
   ]
  },
  {
   "cell_type": "code",
   "execution_count": 7,
   "metadata": {},
   "outputs": [
    {
     "name": "stdout",
     "output_type": "stream",
     "text": [
      "epoch= 10, train loss= 0.4513\n",
      "epoch= 20, train loss= 0.4266\n",
      "epoch= 30, train loss= 0.4073\n",
      "epoch= 40, train loss= 0.3694\n",
      "epoch= 50, train loss= 0.3558\n",
      "epoch= 60, train loss= 0.3516\n",
      "epoch= 70, train loss= 0.3485\n",
      "epoch= 80, train loss= 0.3465\n",
      "epoch= 90, train loss= 0.3448\n",
      "epoch= 100, train loss= 0.3437\n"
     ]
    }
   ],
   "source": [
    "# A) Train the model First and Then do Validation in next Section\n",
    "X_train = X_train.to(device=device)\n",
    "y_train = y_train.to(device=device)\n",
    "\n",
    "for epoch in range(1, num_epochs+1):\n",
    "\n",
    "    # Forward - \n",
    "    y_pred = model(X_train)\n",
    "    loss = criterion(y_pred, y_train)\n",
    "    \n",
    "    # Print loss and accuracy on evry epoch\n",
    "    if (epoch % print_offset == 0) or (epoch == num_epochs):\n",
    "        print(f\"epoch= {epoch}, train loss= {round(loss.item(), 4)}\") # Round the loss upto 4 decimel\n",
    "    \n",
    "    # Backward - \n",
    "    optimizer.zero_grad()\n",
    "    loss.backward()\n",
    "\n",
    "    # Gradient desent with Adam optimizer\n",
    "    optimizer.step()"
   ]
  },
  {
   "cell_type": "code",
   "execution_count": 8,
   "metadata": {},
   "outputs": [
    {
     "name": "stdout",
     "output_type": "stream",
     "text": [
      "Accuracy on training set: 85.69\n",
      "Accuracy on test set: 86.24\n"
     ]
    }
   ],
   "source": [
    "# B) Test Validation after training in previous section\n",
    "def check_accuracy(X, y, model):\n",
    "    corr_pred  = 0\n",
    "    num_sample = len(X)\n",
    "    model.eval() # Set the model to eveluate mode\n",
    "\n",
    "    with torch.no_grad():\n",
    "        X = X.to(device=device)\n",
    "        y = y.to(device=device)\n",
    "\n",
    "        model_pred = model(X)\n",
    "        y_pred = model_pred.round()\n",
    "        corr_pred += (y_pred == y).sum()\n",
    "    \n",
    "    model.train() # Set the model back to traning mode\n",
    "    return corr_pred/num_sample\n",
    "\n",
    "print(f\"Accuracy on training set: {check_accuracy(X_train, y_train, model)*100:.2f}\")\n",
    "print(f\"Accuracy on test set: {check_accuracy(X_test, y_test, model)*100:.2f}\")"
   ]
  },
  {
   "cell_type": "code",
   "execution_count": 9,
   "metadata": {},
   "outputs": [
    {
     "name": "stdout",
     "output_type": "stream",
     "text": [
      "epoch= 10/100, loss= 0.3428, train accuracy = 0.8579, test accuracy = 0.8668\n",
      "epoch= 20/100, loss= 0.3422, train accuracy = 0.8587, test accuracy = 0.8652\n",
      "epoch= 30/100, loss= 0.3416, train accuracy = 0.8589, test accuracy = 0.8648\n",
      "epoch= 40/100, loss= 0.341, train accuracy = 0.8605, test accuracy = 0.8656\n",
      "epoch= 50/100, loss= 0.3404, train accuracy = 0.8603, test accuracy = 0.8672\n",
      "epoch= 60/100, loss= 0.3397, train accuracy = 0.8611, test accuracy = 0.864\n",
      "epoch= 70/100, loss= 0.339, train accuracy = 0.8612, test accuracy = 0.8648\n",
      "epoch= 80/100, loss= 0.3381, train accuracy = 0.8617, test accuracy = 0.8636\n",
      "epoch= 90/100, loss= 0.3366, train accuracy = 0.8601, test accuracy = 0.864\n",
      "epoch= 100/100, loss= 0.3352, train accuracy = 0.8621, test accuracy = 0.8668\n"
     ]
    }
   ],
   "source": [
    "# C) Train the model and find test accuracy together\n",
    "X_train = X_train.to(device=device)\n",
    "y_train = y_train.to(device=device)\n",
    "X_test = X_test.to(device=device)\n",
    "y_test = y_test.to(device=device)\n",
    "\n",
    "for epoch in range (1, num_epochs+1):\n",
    "    \n",
    "    # Forward:\n",
    "    y_train_pred = model(X_train)\n",
    "    loss = criterion(y_train_pred, y_train)\n",
    "\n",
    "    # Check model accuracy on Train dataset\n",
    "    y_train_pred_class = y_train_pred.round()\n",
    "    accuracy_train = y_train_pred_class.eq(y_train).sum()/len(y_train)\n",
    "    \n",
    "    # Backward\n",
    "    optimizer.zero_grad()\n",
    "    loss.backward()\n",
    "\n",
    "    # Gradient descent with Adam optimizer\n",
    "    optimizer.step()\n",
    "    \n",
    "    # Check the model accuracy on test dataset\n",
    "    with torch.no_grad():\n",
    "        y_test_pred = model(X_test)\n",
    "        y_test_pred_class = y_test_pred.round()\n",
    "        accuracy_test = y_test_pred_class.eq(y_test).sum()/len(y_test)\n",
    "\n",
    "    if (epoch % print_offset == 0) or (epoch == num_epochs):\n",
    "        print(f\"epoch= {epoch}/{num_epochs}, loss= {round(loss.item(), 4)}, train accuracy = {round(accuracy_train.item(), 4)}, test accuracy = {round(accuracy_test.item(), 4)}\") # Round the loss upto 4 decimel"
   ]
  }
 ],
 "metadata": {
  "kernelspec": {
   "display_name": "MLT",
   "language": "python",
   "name": "python3"
  },
  "language_info": {
   "codemirror_mode": {
    "name": "ipython",
    "version": 3
   },
   "file_extension": ".py",
   "mimetype": "text/x-python",
   "name": "python",
   "nbconvert_exporter": "python",
   "pygments_lexer": "ipython3",
   "version": "3.9.18"
  }
 },
 "nbformat": 4,
 "nbformat_minor": 2
}
